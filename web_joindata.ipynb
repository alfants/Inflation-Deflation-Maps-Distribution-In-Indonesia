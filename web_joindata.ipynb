{
 "cells": [
  {
   "cell_type": "markdown",
   "metadata": {},
   "source": [
    "# PROCESS"
   ]
  },
  {
   "cell_type": "code",
   "execution_count": 1,
   "metadata": {},
   "outputs": [],
   "source": [
    "# ----- Library -----\n",
    "import pandas as pd\n",
    "import json\n",
    "\n",
    "# ----- Load Data JSON -----\n",
    "with open('longlat.json', 'r') as f:\n",
    "    data_json = json.load(f)\n",
    "df_json = pd.DataFrame(data_json)\n",
    "# Merubah tipe data kolom id pada JSON menjadi numerik\n",
    "df_json['id'] = df_json['id'].astype('int64')\n",
    "\n",
    "# ----- Load Data Excel -----\n",
    "df_excel = pd.read_excel('sebaran data.xlsx')\n",
    "\n",
    "# ----- Merge data Excel dengan data JSON -----\n",
    "newdata = pd.merge(df_excel, df_json, left_on='Kd.Kota', right_on='id', how='left')\n",
    "# newdata.head()"
   ]
  },
  {
   "cell_type": "markdown",
   "metadata": {},
   "source": [
    "# MISSING VALUE"
   ]
  },
  {
   "cell_type": "code",
   "execution_count": 2,
   "metadata": {},
   "outputs": [
    {
     "data": {
      "text/plain": [
       "Tahun          0\n",
       "Bulan          0\n",
       "Kd.Kota        0\n",
       "Nama Kota      0\n",
       "Kode           0\n",
       "Nama           0\n",
       "Flag           0\n",
       "IHK            0\n",
       "INF(MOM)       0\n",
       "INF(YTD)       0\n",
       "INF(YOY)       0\n",
       "ANDIL(MOM)     0\n",
       "ANDIL(YTD)     0\n",
       "ANDIL(YOY)     0\n",
       "id             0\n",
       "province_id    0\n",
       "name           0\n",
       "alt_name       0\n",
       "latitude       0\n",
       "longitude      0\n",
       "dtype: int64"
      ]
     },
     "execution_count": 2,
     "metadata": {},
     "output_type": "execute_result"
    }
   ],
   "source": [
    "newdata.isnull().sum()"
   ]
  },
  {
   "cell_type": "code",
   "execution_count": 3,
   "metadata": {},
   "outputs": [],
   "source": [
    "newdata = newdata.dropna()"
   ]
  },
  {
   "cell_type": "markdown",
   "metadata": {},
   "source": [
    "# CONVERT TO EXCEL"
   ]
  },
  {
   "cell_type": "code",
   "execution_count": 4,
   "metadata": {},
   "outputs": [],
   "source": [
    "newdata.to_excel('clear_data.xlsx')"
   ]
  }
 ],
 "metadata": {
  "kernelspec": {
   "display_name": "Python 3",
   "language": "python",
   "name": "python3"
  },
  "language_info": {
   "codemirror_mode": {
    "name": "ipython",
    "version": 3
   },
   "file_extension": ".py",
   "mimetype": "text/x-python",
   "name": "python",
   "nbconvert_exporter": "python",
   "pygments_lexer": "ipython3",
   "version": "3.9.13"
  }
 },
 "nbformat": 4,
 "nbformat_minor": 2
}
